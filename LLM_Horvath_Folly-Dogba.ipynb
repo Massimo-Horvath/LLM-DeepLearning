{
 "cells": [
  {
   "cell_type": "code",
   "execution_count": 2,
   "metadata": {},
   "outputs": [],
   "source": [
    "# Importer les bibliothèques nécessaires\n",
    "import re, collections\n",
    "import torch\n",
    "import os\n",
    "import tqdm\n"
   ]
  },
  {
   "cell_type": "markdown",
   "metadata": {},
   "source": [
    "---\n",
    "---\n",
    "# Token "
   ]
  },
  {
   "cell_type": "code",
   "execution_count": 4,
   "metadata": {},
   "outputs": [],
   "source": [
    "class Tokenizer():\n",
    "    \"\"\" This class is used to tokenize the input text and create a vocabulary of tokens. \"\"\"\n",
    "    def __init__(self, text, num_merges):\n",
    "        self.text = text\n",
    "        self.num_merges = num_merges\n",
    "\n",
    "    def initialize_vocabulary(self,text):\n",
    "        \"\"\" Initialize the vocabulary from the input text. \"\"\"\n",
    "        vocab = collections.defaultdict(int)\n",
    "        words = text.strip().split()\n",
    "        for word in words:\n",
    "            vocab[' '.join(list(word)) + ' '] += 1\n",
    "        return vocab\n",
    "    \n",
    "    def get_tokens_and_frequencies(self,vocab):\n",
    "        \"\"\" Get the tokens and how often they occur in the vocabulary. \"\"\"\n",
    "        tokens = collections.defaultdict(int)\n",
    "        for word, freq in vocab.items():\n",
    "            word_tokens = word.split()\n",
    "            for token in word_tokens:\n",
    "                tokens[token] += freq\n",
    "        return tokens\n",
    "    \n",
    "    def get_pairs_and_counts(self,vocab):\n",
    "        \"\"\" Get the pairs of tokens and how often they occur in the vocabulary. \"\"\"\n",
    "        pairs = collections.defaultdict(int)\n",
    "        for word, freq in vocab.items():\n",
    "            symbols = word.split()\n",
    "            for i in range(len(symbols)-1):\n",
    "                pairs[symbols[i],symbols[i+1]] += freq\n",
    "        return pairs\n",
    "    \n",
    "    def merge_pair_in_vocabulary(self,pair, vocab_in):\n",
    "        \"\"\" Merge the most frequent pair of tokens in the vocabulary. \"\"\"\n",
    "        vocab_out = {}\n",
    "        bigram = re.escape(' '.join(pair))\n",
    "        p = re.compile(r'(?<!\\S)' + bigram + r'(?!\\S)')\n",
    "        for word in vocab_in:\n",
    "            word_out = p.sub(''.join(pair), word)\n",
    "            vocab_out[word_out] = vocab_in[word]\n",
    "        return vocab_out\n",
    "    \n",
    "    def tokenize(self):\n",
    "        \"\"\" Tokenize the input text. \"\"\"\n",
    "        if os.path.exists('./data/tokens_{}merges.pt'.format(self.num_merges)):\n",
    "            print(\"Loading tokenized data from file\")\n",
    "            tokens = torch.load('./data/tokens_{}merges.pt'.format(self.num_merges),weights_only=False)\n",
    "            vocab = torch.load('./data/vocab_{}merges.pt'.format(self.num_merges),weights_only=False)\n",
    "            return tokens, vocab\n",
    "        \n",
    "        # Initialize the vocabulary from the input text\n",
    "        vocab = self.initialize_vocabulary(self.text)\n",
    "\n",
    "        # Merge the most frequent pair of tokens num_merges times\n",
    "        with tqdm.tqdm(range(self.num_merges), position=0, leave=True) as pbar:\n",
    "            for i in pbar:\n",
    "                tokens = self.get_tokens_and_frequencies(vocab)\n",
    "                pairs = self.get_pairs_and_counts(vocab)\n",
    "                if not pairs:\n",
    "                    break\n",
    "                most_frequent_pair = max(pairs, key=pairs.get)\n",
    "                vocab = self.merge_pair_in_vocabulary(most_frequent_pair, vocab)\n",
    "                pbar.set_description(f'Num merges: {i + 1}')\n",
    "\n",
    "        # Find the tokens and how often they occur in the vocabulary one last time\n",
    "        tokens = self.get_tokens_and_frequencies(vocab)\n",
    "\n",
    "        tokens[' '] = self.text.count(' ')\n",
    "        tokens['\\n'] = self.text.count('\\n')\n",
    "\n",
    "        torch.save(tokens, './data/tokens_{}merges.pt'.format(self.num_merges))\n",
    "        torch.save(vocab, './data/vocab_{}merges.pt'.format(self.num_merges))\n",
    "\n",
    "        return tokens, vocab\n",
    "\n",
    "\n",
    "    def tokenize_text(self, tokens):\n",
    "        \"\"\" Tokenize the input text using the tokens. \"\"\"\n",
    "        # On verifie si le fichier existe\n",
    "        if os.path.exists('./data/tokenized_{}merges.pt'.format(self.num_merges)):\n",
    "            print(\"Loading tokenized data from file\")\n",
    "            tokenized_text = torch.load('./data/tokenized_{}merges.pt'.format(self.num_merges),weights_only=False)\n",
    "            return tokenized_text\n",
    "\n",
    "        token_list = list(tokens.keys())\n",
    "        tokenized_text = []  # Liste pour stocker les tokens trouvés\n",
    "        i = 0  # Index de départ dans le texte\n",
    "\n",
    "        print(\"Nombre de tokens trouvés :\", len(token_list))\n",
    "\n",
    "        with tqdm.tqdm(total=len(self.text), position=0, leave=True) as pbar:\n",
    "            pbar.set_description(\"Tokenizing text\")\n",
    "            while i < len(self.text):\n",
    "                match = None\n",
    "                # On vérifie chaque token pour voir s'il correspond au texte en cours\n",
    "                for token in sorted(token_list, key=len, reverse=True):  # Trier pour détecter les plus longs d'abord\n",
    "                    if self.text[i:i+len(token)] == token:  # Vérifier si le token correspond\n",
    "                        match = token\n",
    "                        break\n",
    "                    \n",
    "                if match:  # Si un token est trouvé, on l'ajoute à la liste\n",
    "                    tokenized_text.append(match)\n",
    "                    i += len(match)  # Avancer l'index de la longueur du token trouvé\n",
    "                    pbar.update(len(match))\n",
    "                else:\n",
    "                    print(\"Token non trouvé pour le texte restant :\", self.text[i:])\n",
    "                    break  # Arrêter si aucun token ne correspond\n",
    "\n",
    "        # Sauvegarder les données tokenizées\n",
    "        torch.save(tokenized_text, './data/tokenized_{}merges.pt'.format(self.num_merges))\n",
    "        return tokenized_text "
   ]
  },
  {
   "cell_type": "code",
   "execution_count": null,
   "metadata": {},
   "outputs": [],
   "source": [
    "data = open('./data/Shakespeare.txt', 'r').read()"
   ]
  },
  {
   "cell_type": "code",
   "execution_count": 7,
   "metadata": {},
   "outputs": [
    {
     "name": "stderr",
     "output_type": "stream",
     "text": [
      "Num merges: 1000: 100%|██████████| 1000/1000 [01:51<00:00,  8.98it/s]\n"
     ]
    },
    {
     "name": "stdout",
     "output_type": "stream",
     "text": [
      "Nombre de tokens trouvés : 1014\n"
     ]
    },
    {
     "name": "stderr",
     "output_type": "stream",
     "text": [
      "Tokenizing text: 100%|██████████| 1115394/1115394 [02:08<00:00, 8697.13it/s]\n"
     ]
    }
   ],
   "source": [
    "tokenizer = Tokenizer(data, 1000)\n",
    "tokens, vocab = tokenizer.tokenize()\n",
    "tokenized_text = tokenizer.tokenize_text(tokens)"
   ]
  },
  {
   "cell_type": "code",
   "execution_count": 8,
   "metadata": {},
   "outputs": [
    {
     "name": "stdout",
     "output_type": "stream",
     "text": [
      "['First', ' ', 'Citizen:', '\\n', 'Be', 'fore', ' ', 'we', ' ', 'pro', 'ce', 'ed', ' ', 'any', ' ', 'f', 'ur', 'ther', ',', ' ', 'hear', ' ', 'me', ' ', 'speak', '.', '\\n', '\\n', 'All', ':', '\\n', 'S', 'pe', 'ak', ',', ' ', 'speak', '.', '\\n', '\\n', 'First', ' ', 'Citizen:', '\\n', 'You', ' ', 'are', ' ', 'all', ' ', 'res', 'ol', 'ved', ' ', 'ra', 'ther', ' ', 'to', ' ', 'die', ' ', 'than', ' ', 'to', ' ', 'fa', 'mis', 'h', '?', '\\n', '\\n', 'All', ':', '\\n', 'R', 'es', 'ol', 'ved', '.', ' ', 'res', 'ol', 'ved', '.', '\\n', '\\n', 'First', ' ', 'Citizen:', '\\n', 'First', ',', ' ', 'you', ' ', 'know', ' ', 'C', 'a', 'i']\n"
     ]
    }
   ],
   "source": [
    "print(tokenized_text[:100])"
   ]
  },
  {
   "cell_type": "markdown",
   "metadata": {},
   "source": []
  }
 ],
 "metadata": {
  "kernelspec": {
   "display_name": "Python 3",
   "language": "python",
   "name": "python3"
  },
  "language_info": {
   "codemirror_mode": {
    "name": "ipython",
    "version": 3
   },
   "file_extension": ".py",
   "mimetype": "text/x-python",
   "name": "python",
   "nbconvert_exporter": "python",
   "pygments_lexer": "ipython3",
   "version": "3.9.13"
  }
 },
 "nbformat": 4,
 "nbformat_minor": 2
}
